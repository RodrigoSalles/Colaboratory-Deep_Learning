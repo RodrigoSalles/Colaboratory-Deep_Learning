{
  "nbformat": 4,
  "nbformat_minor": 0,
  "metadata": {
    "colab": {
      "name": "BDCC - Colab runtime characteristics",
      "provenance": [],
      "collapsed_sections": [],
      "toc_visible": true,
      "include_colab_link": true
    },
    "kernelspec": {
      "name": "python3",
      "display_name": "Python 3"
    }
  },
  "cells": [
    {
      "cell_type": "markdown",
      "metadata": {
        "id": "view-in-github",
        "colab_type": "text"
      },
      "source": [
        "<a href=\"https://colab.research.google.com/github/RodrigoSalles/Colaboratory-Deep_Learning/blob/master/BDCC_Colab_runtime_characteristics.ipynb\" target=\"_parent\"><img src=\"https://colab.research.google.com/assets/colab-badge.svg\" alt=\"Open In Colab\"/></a>"
      ]
    },
    {
      "cell_type": "markdown",
      "metadata": {
        "id": "6H5udvifsG_j",
        "colab_type": "text"
      },
      "source": [
        "# Google Colab - inspection of runtime characteristics\n",
        "\n",
        "**[Big Data and Cloud Computing](https://www.dcc.fc.up.pt/~edrdo/aulas/bdcc), Eduardo R. B. Marques, DCC/FCUP**\n",
        "\n",
        "This notebook lets you inspect the basic runtime characteristics of the Colab runtime. \n",
        "\n",
        "Note that these characteristics may be different from time to time - check \"Resource Limits\" in the [Colab FAQ](https://research.google.com/colaboratory/faq.html)."
      ]
    },
    {
      "cell_type": "markdown",
      "metadata": {
        "id": "WGMA2UOHmm6B",
        "colab_type": "text"
      },
      "source": [
        "## Linux version & distribution"
      ]
    },
    {
      "cell_type": "code",
      "metadata": {
        "id": "pWtysPntmpaE",
        "colab_type": "code",
        "colab": {
          "base_uri": "https://localhost:8080/",
          "height": 51
        },
        "outputId": "c94e89af-f3e9-4792-8ce1-c4214a862cee"
      },
      "source": [
        "!uname -a\n",
        "!cat /etc/lsb-release | grep DESCRIPTION"
      ],
      "execution_count": 1,
      "outputs": [
        {
          "output_type": "stream",
          "text": [
            "Linux 707412b31eb7 4.14.137+ #1 SMP Thu Aug 8 02:47:02 PDT 2019 x86_64 x86_64 x86_64 GNU/Linux\n",
            "DISTRIB_DESCRIPTION=\"Ubuntu 18.04.3 LTS\"\n"
          ],
          "name": "stdout"
        }
      ]
    },
    {
      "cell_type": "markdown",
      "metadata": {
        "id": "b3NGiTR5lQPB",
        "colab_type": "text"
      },
      "source": [
        "## CPU"
      ]
    },
    {
      "cell_type": "code",
      "metadata": {
        "id": "pQK2iDX9lU3a",
        "colab_type": "code",
        "colab": {}
      },
      "source": [
        "!lscpu"
      ],
      "execution_count": 0,
      "outputs": []
    },
    {
      "cell_type": "markdown",
      "metadata": {
        "id": "7Nv-3HyBlqY7",
        "colab_type": "text"
      },
      "source": [
        "## Memory"
      ]
    },
    {
      "cell_type": "code",
      "metadata": {
        "id": "Nmk6bePYlu7h",
        "colab_type": "code",
        "colab": {
          "base_uri": "https://localhost:8080/",
          "height": 68
        },
        "outputId": "cb1697f9-4b2b-4fd8-fd2c-7473755afc3e"
      },
      "source": [
        "!free --human\n"
      ],
      "execution_count": 3,
      "outputs": [
        {
          "output_type": "stream",
          "text": [
            "              total        used        free      shared  buff/cache   available\n",
            "Mem:            12G        524M         10G        852K        1.9G         11G\n",
            "Swap:            0B          0B          0B\n"
          ],
          "name": "stdout"
        }
      ]
    },
    {
      "cell_type": "markdown",
      "metadata": {
        "id": "DMjeXN_Qm1s-",
        "colab_type": "text"
      },
      "source": [
        "## Disk"
      ]
    },
    {
      "cell_type": "code",
      "metadata": {
        "id": "0zsoQJEcm4Vz",
        "colab_type": "code",
        "colab": {
          "base_uri": "https://localhost:8080/",
          "height": 187
        },
        "outputId": "2e42ba18-395f-49df-da5c-ccd4721b05cb"
      },
      "source": [
        "!df --human"
      ],
      "execution_count": 4,
      "outputs": [
        {
          "output_type": "stream",
          "text": [
            "Filesystem      Size  Used Avail Use% Mounted on\n",
            "overlay         108G   29G   74G  28% /\n",
            "tmpfs            64M     0   64M   0% /dev\n",
            "tmpfs           6.4G     0  6.4G   0% /sys/fs/cgroup\n",
            "tmpfs           6.4G  8.0K  6.4G   1% /var/colab\n",
            "/dev/sda1       114G   31G   84G  27% /etc/hosts\n",
            "shm             6.0G  4.0K  6.0G   1% /dev/shm\n",
            "tmpfs           6.4G     0  6.4G   0% /proc/acpi\n",
            "tmpfs           6.4G     0  6.4G   0% /proc/scsi\n",
            "tmpfs           6.4G     0  6.4G   0% /sys/firmware\n"
          ],
          "name": "stdout"
        }
      ]
    },
    {
      "cell_type": "markdown",
      "metadata": {
        "id": "nBwT6NbaoJFT",
        "colab_type": "text"
      },
      "source": [
        "## GPU \n",
        "\n",
        "To enable the GPU access __Edit > Notebook settings__ and set the __Hardware accelerator__ to __GPU__."
      ]
    },
    {
      "cell_type": "code",
      "metadata": {
        "id": "pUxGzcjjoNjy",
        "colab_type": "code",
        "colab": {}
      },
      "source": [
        "%tensorflow_version 2.x \n",
        "import tensorflow as tf\n",
        "\n",
        "print(\"GPU device: \" + tf.test.gpu_device_name())\n",
        "\n",
        "from tensorflow.python.client import device_lib\n",
        "\n",
        "tf_devices = device_lib.list_local_devices()\n",
        "\n",
        "for x in tf_devices:\n",
        "  print('------')\n",
        "  print(x)\n"
      ],
      "execution_count": 0,
      "outputs": []
    }
  ]
}